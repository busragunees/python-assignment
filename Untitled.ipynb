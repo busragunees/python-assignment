{
 "cells": [
  {
   "cell_type": "code",
   "execution_count": null,
   "metadata": {},
   "outputs": [],
   "source": [
    "Exercise -135\n",
    "Write a function that, given a string of text (possibly with punctuation and line-breaks), returns an array of the top-3 most occurring words, in descending order of the number of occurrences.\n",
    "Assumptions:\n",
    "A word is a string of letters (A to Z) optionally containing one or more apostrophes (') in ASCII.\n",
    "Apostrophes can appear at the start, middle or end of a word ('abc, abc', 'abc', ab'c are all valid)\n",
    "Any other characters (e.g. #, \\, / , . ...) are not part of a word and should be treated as whitespace.\n",
    "Matches should be case-insensitive, and the words in the result should be lowercased.\n",
    "Ties may be broken arbitrarily.\n",
    "If a text contains fewer than three unique words, then either the top-2 or top-1 words should be returned, or an empty array if a text contains no words."
   ]
  },
  {
   "cell_type": "code",
   "execution_count": null,
   "metadata": {},
   "outputs": [],
   "source": [
    "def top_3_words(string) :\n",
    "  string = string.lower()\n",
    "  new_str = \"\".join([i if i.isalpha() or i == \"'\" else \" \" for word in string for i in word]).split()\n",
    "  return sorted(set(new_str), key = new_str.count , reverse=True)[:3]"
   ]
  },
  {
   "cell_type": "code",
   "execution_count": null,
   "metadata": {},
   "outputs": [],
   "source": []
  },
  {
   "cell_type": "code",
   "execution_count": null,
   "metadata": {},
   "outputs": [],
   "source": []
  },
  {
   "cell_type": "code",
   "execution_count": null,
   "metadata": {},
   "outputs": [],
   "source": []
  }
 ],
 "metadata": {
  "kernelspec": {
   "display_name": "Python 3",
   "language": "python",
   "name": "python3"
  },
  "language_info": {
   "codemirror_mode": {
    "name": "ipython",
    "version": 3
   },
   "file_extension": ".py",
   "mimetype": "text/x-python",
   "name": "python",
   "nbconvert_exporter": "python",
   "pygments_lexer": "ipython3",
   "version": "3.7.1"
  }
 },
 "nbformat": 4,
 "nbformat_minor": 2
}
