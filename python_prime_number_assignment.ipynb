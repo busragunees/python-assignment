{
 "cells": [
  {
   "cell_type": "code",
   "execution_count": null,
   "metadata": {},
   "outputs": [],
   "source": [
    "def prime_number(number):\n",
    "    if (number == 1):\n",
    "        return False\n",
    "\n",
    "    elif (number == 2):\n",
    "        return True\n",
    "\n",
    "    else:\n",
    "        for i in range(2,number):\n",
    "            if (number % i == 0):\n",
    "                return False\n",
    "        return True\n",
    "\n",
    "while True:\n",
    "    number = input(\"Number:\")\n",
    "\n",
    "    if (number == \"q\"):\n",
    "        break\n",
    "    else:\n",
    "        sayı = int(number)\n",
    "\n",
    "        if (prime_number(number)):\n",
    "            print(number,\"it's a prime number\")\n",
    "        else:\n",
    "            print(number,\"it is not a prime number\")\n"
   ]
  },
  {
   "cell_type": "code",
   "execution_count": 29,
   "metadata": {},
   "outputs": [
    {
     "name": "stdout",
     "output_type": "stream",
     "text": [
      "Give a number : 7\n",
      "7  it is a prime number.\n"
     ]
    }
   ],
   "source": [
    "number =int(input(\"Give a number : \"))\n",
    "if number == 2: \n",
    "    print(\"it is a prime number.\")\n",
    "if number > 1:\n",
    "    for i in range(2,number):\n",
    "        if (number % i) == 0:\n",
    "            print(number,\"it is not a prime number.\")\n",
    "            break\n",
    "        else:\n",
    "            print(number,\" it is a prime number.\")\n",
    "            break\n",
    "else:\n",
    "    print(number,\"it is not a prime number\")"
   ]
  },
  {
   "cell_type": "code",
   "execution_count": null,
   "metadata": {},
   "outputs": [],
   "source": [
    "def asal_sayı(sayı):\n",
    "  liste1=[]\n",
    "  for i in range(2,sayı):\n",
    "   if (sayı%i==0):\n",
    "     liste1.append(i)\n",
    "  print(list1)\n",
    "  if (len(liste1)>0) or (sayı==1) :\n",
    "   print(sayı, \"asal değildir\") \n",
    "  else: \n",
    "   print(sayı, \"asaldır\")\n",
    "asal_sayı(24)"
   ]
  },
  {
   "cell_type": "code",
   "execution_count": 7,
   "metadata": {},
   "outputs": [
    {
     "name": "stdout",
     "output_type": "stream",
     "text": [
      "enter49\n",
      "[7]\n",
      "49 asal değildir\n"
     ]
    }
   ],
   "source": [
    "sayı=int(input(\"enter\"))\n",
    "list1=[]\n",
    "for i in range(2,sayı):\n",
    "  if sayı%i==0:\n",
    "    list1.append(i)\n",
    "print(list1)\n",
    "if (len(list1)>0) or (sayı==1):\n",
    "  print(sayı,\"asal değildir\")\n",
    "else:\n",
    "  print(sayı,\"asaldır\")"
   ]
  },
  {
   "cell_type": "markdown",
   "metadata": {},
   "source": [
    "Task : Print the prime numbers which are between 1 to entered limit number (n).\n",
    "\n",
    "You can use a nested for loop.\n",
    "Collect all these numbers into a list\n",
    "The desired output for n=100 :\n",
    "[2, 3, 5, 7, 11, 13, 17, 19, 23, 29, 31, 37, 41, 43, 47, 53, 59,\n",
    "61, 67, 71, 73, 79, 83, 89, 97]"
   ]
  },
  {
   "cell_type": "code",
   "execution_count": 19,
   "metadata": {},
   "outputs": [
    {
     "name": "stdout",
     "output_type": "stream",
     "text": [
      "[2, 3, 5, 7, 11, 13, 17, 19, 23, 29, 31, 37, 41, 43, 47, 53, 59, 61, 67, 71, 73, 79, 83, 89, 97]\n"
     ]
    }
   ],
   "source": [
    "list = []\n",
    "for number in range(1,101):  \n",
    "    if number > 1:  \n",
    "        for i in range(2,number):  \n",
    "            if (number % i) == 0:  \n",
    "                break  \n",
    "        else:  \n",
    "            list.append(number)\n",
    "print(list)"
   ]
  },
  {
   "cell_type": "markdown",
   "metadata": {},
   "source": [
    "Given two integer values, return their sum. If the two values are the same, then return double their sum."
   ]
  },
  {
   "cell_type": "code",
   "execution_count": 22,
   "metadata": {},
   "outputs": [
    {
     "name": "stdout",
     "output_type": "stream",
     "text": [
      "20\n"
     ]
    }
   ],
   "source": [
    "def sum_double(x,y):\n",
    "    if x != y :\n",
    "        print(x+y)\n",
    "    else :\n",
    "        x == y \n",
    "        print((x+y)*2)\n",
    "sum_double(5,5)"
   ]
  },
  {
   "cell_type": "code",
   "execution_count": 46,
   "metadata": {},
   "outputs": [
    {
     "name": "stdout",
     "output_type": "stream",
     "text": [
      "True\n",
      "False\n",
      "False\n"
     ]
    }
   ],
   "source": [
    "def parrot_trouble(talking, hour):\n",
    "    if talking and hour>21 or hour<6:\n",
    "        return True\n",
    "    else:\n",
    "        return False\n",
    "print(parrot_trouble(True, 5))\n",
    "print(parrot_trouble(True, 8))\n",
    "print(parrot_trouble(False, 22))"
   ]
  },
  {
   "cell_type": "code",
   "execution_count": null,
   "metadata": {},
   "outputs": [],
   "source": []
  },
  {
   "cell_type": "code",
   "execution_count": null,
   "metadata": {},
   "outputs": [],
   "source": []
  },
  {
   "cell_type": "code",
   "execution_count": null,
   "metadata": {},
   "outputs": [],
   "source": []
  },
  {
   "cell_type": "code",
   "execution_count": null,
   "metadata": {},
   "outputs": [],
   "source": []
  },
  {
   "cell_type": "code",
   "execution_count": null,
   "metadata": {},
   "outputs": [],
   "source": []
  }
 ],
 "metadata": {
  "kernelspec": {
   "display_name": "Python 3",
   "language": "python",
   "name": "python3"
  },
  "language_info": {
   "codemirror_mode": {
    "name": "ipython",
    "version": 3
   },
   "file_extension": ".py",
   "mimetype": "text/x-python",
   "name": "python",
   "nbconvert_exporter": "python",
   "pygments_lexer": "ipython3",
   "version": "3.7.1"
  }
 },
 "nbformat": 4,
 "nbformat_minor": 2
}
