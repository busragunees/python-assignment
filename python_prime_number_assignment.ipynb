{
 "cells": [
  {
   "cell_type": "code",
   "execution_count": null,
   "metadata": {},
   "outputs": [],
   "source": [
    "def prime_number(number):\n",
    "    if (number == 1):\n",
    "        return False\n",
    "\n",
    "    elif (number == 2):\n",
    "        return True\n",
    "\n",
    "    else:\n",
    "        for i in range(2,number):\n",
    "            if (number % i == 0):\n",
    "                return False\n",
    "        return True\n",
    "\n",
    "while True:\n",
    "    number = input(\"Number:\")\n",
    "\n",
    "    if (number == \"q\"):\n",
    "        break\n",
    "    else:\n",
    "        sayı = int(number)\n",
    "\n",
    "        if (prime_number(number)):\n",
    "            print(number,\"it's a prime number\")\n",
    "        else:\n",
    "            print(number,\"it is not a prime number\")\n"
   ]
  },
  {
   "cell_type": "code",
   "execution_count": 29,
   "metadata": {},
   "outputs": [
    {
     "name": "stdout",
     "output_type": "stream",
     "text": [
      "Give a number : 7\n",
      "7  it is a prime number.\n"
     ]
    }
   ],
   "source": [
    "number =int(input(\"Give a number : \"))\n",
    "if number > 1:\n",
    "    for i in range(2,number):\n",
    "        if (number % i) == 0:\n",
    "            print(number,\"it is not a prime number.\")\n",
    "            break\n",
    "        else:\n",
    "            print(number,\" it is a prime number.\")\n",
    "            break\n",
    "else:\n",
    "    print(number,\"it is not a prime number\")"
   ]
  },
  {
   "cell_type": "code",
   "execution_count": null,
   "metadata": {},
   "outputs": [],
   "source": []
  },
  {
   "cell_type": "code",
   "execution_count": null,
   "metadata": {},
   "outputs": [],
   "source": []
  },
  {
   "cell_type": "code",
   "execution_count": null,
   "metadata": {},
   "outputs": [],
   "source": []
  },
  {
   "cell_type": "code",
   "execution_count": null,
   "metadata": {},
   "outputs": [],
   "source": []
  }
 ],
 "metadata": {
  "kernelspec": {
   "display_name": "Python 3",
   "language": "python",
   "name": "python3"
  },
  "language_info": {
   "codemirror_mode": {
    "name": "ipython",
    "version": 3
   },
   "file_extension": ".py",
   "mimetype": "text/x-python",
   "name": "python",
   "nbconvert_exporter": "python",
   "pygments_lexer": "ipython3",
   "version": "3.7.1"
  }
 },
 "nbformat": 4,
 "nbformat_minor": 2
}
